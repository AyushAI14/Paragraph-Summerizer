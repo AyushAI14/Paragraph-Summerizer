{
 "cells": [
  {
   "cell_type": "code",
   "execution_count": 2,
   "metadata": {},
   "outputs": [],
   "source": [
    "import pandas as pd"
   ]
  },
  {
   "cell_type": "code",
   "execution_count": 4,
   "metadata": {},
   "outputs": [
    {
     "name": "stdout",
     "output_type": "stream",
     "text": [
      "Train set size: 14732\n",
      "Test set size: 819\n",
      "Validation set size: 818\n"
     ]
    }
   ],
   "source": [
    "\n",
    "# Load each CSV file into a pandas DataFrame\n",
    "train_df = pd.read_csv('samsum-train.csv')\n",
    "test_df = pd.read_csv('samsum-test.csv')\n",
    "validation_df = pd.read_csv('samsum-validation.csv')\n",
    "\n",
    "# Check the number of rows in each DataFrame\n",
    "print(\"Train set size:\", len(train_df))\n",
    "print(\"Test set size:\", len(test_df))\n",
    "print(\"Validation set size:\", len(validation_df))\n"
   ]
  },
  {
   "cell_type": "code",
   "execution_count": 5,
   "metadata": {},
   "outputs": [
    {
     "name": "stdout",
     "output_type": "stream",
     "text": [
      "Small Train set size: 200\n",
      "Small Test set size: 200\n",
      "Small Validation set size: 200\n"
     ]
    }
   ],
   "source": [
    "# Define the number of samples you want\n",
    "num_samples = 200  # Adjust this as needed\n",
    "\n",
    "# Sample a subset of each DataFrame\n",
    "small_train_df = train_df.sample(n=min(num_samples, len(train_df)), random_state=42)\n",
    "small_test_df = test_df.sample(n=min(num_samples, len(test_df)), random_state=42)\n",
    "small_validation_df = validation_df.sample(n=min(num_samples, len(validation_df)), random_state=42)\n",
    "\n",
    "# Check the new sizes\n",
    "print(\"Small Train set size:\", len(small_train_df))\n",
    "print(\"Small Test set size:\", len(small_test_df))\n",
    "print(\"Small Validation set size:\", len(small_validation_df))\n"
   ]
  },
  {
   "cell_type": "code",
   "execution_count": 6,
   "metadata": {},
   "outputs": [],
   "source": [
    "# Save the smaller datasets to CSV files\n",
    "small_train_df.to_csv('small_samsum-train.csv', index=False)\n",
    "small_test_df.to_csv('small_samsum-test.csv', index=False)\n",
    "small_validation_df.to_csv('small_samsum-validation.csv', index=False)\n"
   ]
  },
  {
   "cell_type": "code",
   "execution_count": null,
   "metadata": {},
   "outputs": [],
   "source": []
  }
 ],
 "metadata": {
  "kernelspec": {
   "display_name": "env",
   "language": "python",
   "name": "python3"
  },
  "language_info": {
   "codemirror_mode": {
    "name": "ipython",
    "version": 3
   },
   "file_extension": ".py",
   "mimetype": "text/x-python",
   "name": "python",
   "nbconvert_exporter": "python",
   "pygments_lexer": "ipython3",
   "version": "3.12.3"
  }
 },
 "nbformat": 4,
 "nbformat_minor": 2
}
